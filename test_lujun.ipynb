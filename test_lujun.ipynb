{
 "cells": [
  {
   "cell_type": "code",
   "execution_count": null,
   "id": "819166b9",
   "metadata": {
    "vscode": {
     "languageId": "plaintext"
    }
   },
   "outputs": [],
   "source": [
    "python main.py \\\n",
    "    --name 'test_llama' \\\n",
    "    --llm_model 'meta-llama/Llama-2-7b-chat-hf' \\\n",
    "    --data_set_type 'JailBreakBench Data Set' \\\n",
    "    --data_set_path '/home/llama/Personal_Directories/srb/jailbreaktester/dataset/jailBreakbench_failed_and_successfull.json' \\\n",
    "    --classifier 'Pert2Detect' \\\n",
    "    --classifier_options '--threshold 0.15 \\\n",
    "    --smoothllm_num_copies 10 \\\n",
    "    --smoothllm_pert_types [\"RandomPatchPerturbation\"] \\\n",
    "    --smoothllm_pert_pct_min 1 \\\n",
    "    --smoothllm_pert_pct_max 1'\n",
    "\n",
    "\n",
    "python main.py \\\n",
    "    --name 'test_gemma' \\\n",
    "    --llm_model 'google/gemma-2-9b' \\\n",
    "    --data_set_type 'JailBreakBench Data Set' \\\n",
    "    --data_set_path '/home/lujun_li/projects/jailbreaktester/dataset/jailBreakbench_failed_and_successfull.json' \\\n",
    "    --classifier 'Pert2Detect' \\\n",
    "    --classifier_options '--threshold 0.15 \\\n",
    "    --smoothllm_num_copies 10 \\\n",
    "    --smoothllm_pert_types [\"RandomPatchPerturbation\"] \\\n",
    "    --smoothllm_pert_pct_min 1 \\\n",
    "    --smoothllm_pert_pct_max 1'\n",
    "\n",
    "\n",
    "python main.py --name '2025-04-12T00:47:54.065018' --llm_model 'meta-llama/Llama-2-7b-chat-hf' --data_set_type 'JailBreakBench Data Set' --data_set_path '/home/lujun_li/projects/jailbreaktester/dataset/jailBreakbench_failed_and_successfull.json' --classifier 'Pert2Detect' --classifier_options '--threshold 0.15 --smoothllm_num_copies 2 --smoothllm_pert_types [\"RandomSwapPerturbation\",\"RandomPatchPerturbation\"] --smoothllm_pert_pct_min 5 --smoothllm_pert_pct_max 10'"
   ]
  },
  {
   "cell_type": "code",
   "execution_count": null,
   "id": "0c9b0ca0",
   "metadata": {
    "vscode": {
     "languageId": "plaintext"
    }
   },
   "outputs": [],
   "source": [
    "CUDA_VISIBLE_DEVICES=1 vllm serve meta-llama/Llama-2-7b-chat-hf --port 8000\n",
    "CUDA_VISIBLE_DEVICES=0 vllm serve google/gemma-2-9b --port 8000\n"
   ]
  },
  {
   "cell_type": "code",
   "execution_count": null,
   "id": "b823d566",
   "metadata": {
    "vscode": {
     "languageId": "plaintext"
    }
   },
   "outputs": [],
   "source": [
    "from sentence_transformers import SentenceTransformer\n",
    "\n",
    "# Load the model from Hugging Face Hub\n",
    "model = SentenceTransformer('sentence-transformers/msmarco-distilbert-base-tas-b')\n",
    "\n",
    "# Save the model locally\n",
    "model.save('./msmarco-distilbert-base-tas-b-local')\n"
   ]
  }
 ],
 "metadata": {
  "language_info": {
   "name": "python"
  }
 },
 "nbformat": 4,
 "nbformat_minor": 5
}
