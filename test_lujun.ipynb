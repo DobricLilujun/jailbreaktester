{
 "cells": [
  {
   "cell_type": "code",
   "execution_count": null,
   "id": "819166b9",
   "metadata": {
    "vscode": {
     "languageId": "plaintext"
    }
   },
   "outputs": [],
   "source": [
    "python main.py \n",
    "    --name '2025-04-11T16:05:39.852566' \n",
    "    --llm_model 'meta-llama/Llama-2-7b-chat-hf' \n",
    "    --data_set_type 'JailBreakBench Data Set' \n",
    "    --data_set_path '/home/lujun_li/projects/jailbreaktester/dataset/jailBreakbench_failed_and_successfull.json' \n",
    "    --classifier 'Pert2Detect' \n",
    "    --classifier_options '--threshold 0.15 \n",
    "    --smoothllm_num_copies 10 \n",
    "    --smoothllm_pert_types [\"RandomPatchPerturbation\"] \n",
    "    --smoothllm_pert_pct_min 1 \n",
    "    --smoothllm_pert_pct_max 1'"
   ]
  }
 ],
 "metadata": {
  "language_info": {
   "name": "python"
  }
 },
 "nbformat": 4,
 "nbformat_minor": 5
}
