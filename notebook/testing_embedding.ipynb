{
 "cells": [
  {
   "cell_type": "code",
   "execution_count": 6,
   "id": "9e43673d",
   "metadata": {},
   "outputs": [
    {
     "data": {
      "text/plain": [
       "Index(['answer', 'gt', 'answer_emb', 'cosine', 'perturbation_rate', 'index',\n",
       "       'global_index', 'perturbed_prompt'],\n",
       "      dtype='object')"
      ]
     },
     "execution_count": 6,
     "metadata": {},
     "output_type": "execute_result"
    }
   ],
   "source": [
    "import pandas as pd\n",
    "\n",
    "\n",
    "df = pd.read_parquet(\"output/sample_template_llama/df.parquet\")\n",
    "df.columns"
   ]
  },
  {
   "cell_type": "code",
   "execution_count": 7,
   "id": "9144d342",
   "metadata": {},
   "outputs": [
    {
     "data": {
      "text/plain": [
       "Index(['original_prompt', 'answer', 'gt', 'answer_emb', 'cosine',\n",
       "       'perturbation_rate', 'index', 'global_index', 'perturbed_prompt',\n",
       "       'prob_success', 'success_label'],\n",
       "      dtype='object')"
      ]
     },
     "execution_count": 7,
     "metadata": {},
     "output_type": "execute_result"
    }
   ],
   "source": [
    "import pandas as pd\n",
    "\n",
    "df = pd.read_parquet(\"output/sample_template_llama/merged_file.parquet\")\n",
    "df.columns"
   ]
  },
  {
   "cell_type": "code",
   "execution_count": null,
   "id": "1dbc17d2",
   "metadata": {},
   "outputs": [],
   "source": [
    "import pandas as pd\n",
    "\n",
    "\n"
   ]
  }
 ],
 "metadata": {
  "kernelspec": {
   "display_name": "JailBreakTesterLujun",
   "language": "python",
   "name": "python3"
  },
  "language_info": {
   "codemirror_mode": {
    "name": "ipython",
    "version": 3
   },
   "file_extension": ".py",
   "mimetype": "text/x-python",
   "name": "python",
   "nbconvert_exporter": "python",
   "pygments_lexer": "ipython3",
   "version": "3.10.14"
  }
 },
 "nbformat": 4,
 "nbformat_minor": 5
}
