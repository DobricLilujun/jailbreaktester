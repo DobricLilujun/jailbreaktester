{
 "cells": [
  {
   "cell_type": "markdown",
   "id": "6cd7b28c",
   "metadata": {},
   "source": [
    "## Dataset Preparation\n",
    "\n",
    "The basic demand is to make a unified dataset with manual ground truth for different mdoels in order to have a benchmark datasets"
   ]
  },
  {
   "cell_type": "code",
   "execution_count": null,
   "id": "bd0cf7fa",
   "metadata": {},
   "outputs": [],
   "source": [
    "import pandas as pd\n",
    "\n",
    "\n",
    "\n",
    "# 25* Perturbations * 3 type * 157 \n",
    "\n"
   ]
  }
 ],
 "metadata": {
  "kernelspec": {
   "display_name": "JailBreakTesterLujun",
   "language": "python",
   "name": "python3"
  },
  "language_info": {
   "name": "python",
   "version": "3.10.14"
  }
 },
 "nbformat": 4,
 "nbformat_minor": 5
}
